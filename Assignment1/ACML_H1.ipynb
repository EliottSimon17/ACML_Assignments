{
 "cells": [
  {
   "cell_type": "markdown",
   "id": "3d3f921c-e679-4f2c-9624-060e97ba17be",
   "metadata": {},
   "source": [
    "<h1> Advanced Concepts in Machine Learning</h1>\t\n",
    "<h2> Homework 1</h2>\t"
   ]
  },
  {
   "cell_type": "code",
   "execution_count": 1,
   "id": "72177374-be53-4376-8a7d-db6c2689397b",
   "metadata": {},
   "outputs": [],
   "source": [
    "def xavier_weight_initialization(weight_set_1, weight_set_2, n):\n",
    "    lower_bound, upper_bound = -(1.0 / sqrt(n)), (1.0 / sqrt(n))\n",
    "    for i in range(len(weight_set_1)):\n",
    "        for j in range(len(weight_set_1[i])):\n",
    "             weight_set_1[i][j] =  random.uniform(lower_bound, upper_bound)  \n",
    "                \n",
    "    for i in range(len(weight_set_2)):\n",
    "        for j in range(len(weight_set_2[i])):\n",
    "             weight_set_2[i][j] =  random.uniform(lower_bound, upper_bound)   \n",
    "    \n",
    "    return weight_set_1, weight_set_2                "
   ]
  },
  {
   "cell_type": "code",
   "execution_count": 2,
   "id": "4a4b8495-6122-4972-99cd-7ddbdc4aa9ff",
   "metadata": {},
   "outputs": [],
   "source": [
    "import numpy as np\n",
    "import random\n",
    "from math import sqrt\n",
    "from numpy.random import rand\n",
    "\n",
    "\n",
    "training = np.array([[1, 0, 0, 0, 0, 0, 0, 0],\n",
    "                    [0, 1, 0, 0, 0, 0, 0, 0],\n",
    "                    [0, 0, 1, 0, 0, 0, 0, 0],\n",
    "                    [0, 0, 0, 1, 0, 0, 0, 0],\n",
    "                    [0, 0, 0, 0, 1, 0, 0, 0],\n",
    "                    [0, 0, 0, 0, 0, 1, 0, 0],\n",
    "                    [0, 0, 0, 0, 0, 0, 1, 0],\n",
    "                    [0, 0, 0, 0, 0, 0, 0, 1]])\n",
    "\n",
    "testing = np.array([[1, 0, 0, 0, 0, 0, 0, 0],\n",
    "                    [0, 1, 0, 0, 0, 0, 0, 0],\n",
    "                    [0, 0, 1, 0, 0, 0, 0, 0],\n",
    "                    [0, 0, 0, 1, 0, 0, 0, 0],\n",
    "                    [0, 0, 0, 0, 1, 0, 0, 0],\n",
    "                    [0, 0, 0, 0, 0, 1, 0, 0],\n",
    "                    [0, 0, 0, 0, 0, 0, 1, 0],\n",
    "                    [0, 0, 0, 0, 0, 0, 0, 1]]).T\n",
    "\n",
    "# Initializes random weights\n",
    "#weights from input->hidden from 8 input nodes to 3 hidden nodes\n",
    "\n",
    "weights_hidden = np.random.random((8, 3))\n",
    "#weights from hidden->output from 3 nodes to 8 output nodes\n",
    "weights_output = np.random.random((3, 8))\n",
    "\n",
    "weights_hidden, weights_output = xavier_weight_initialization(weights_hidden, weights_output, 8)\n",
    "\n",
    "bias_hidden = np.random.rand(1)\n",
    "bias_output = np.random.rand(1)\n",
    "#learning rate\n",
    "lr=0.1"
   ]
  },
  {
   "cell_type": "markdown",
   "id": "b126cd86-b024-423b-b1db-a44b98655633",
   "metadata": {},
   "source": [
    "# Sigmoid Function"
   ]
  },
  {
   "cell_type": "code",
   "execution_count": 3,
   "id": "eba86c7c-0deb-403b-aa19-630af5f76931",
   "metadata": {},
   "outputs": [],
   "source": [
    "def sigmoid(x):\n",
    "    return 1/(1+np.exp(-x))"
   ]
  },
  {
   "cell_type": "markdown",
   "id": "104ee883-08e6-4922-9d36-2e962611b121",
   "metadata": {},
   "source": [
    "# Gradient of the sigmoid"
   ]
  },
  {
   "cell_type": "code",
   "execution_count": 4,
   "id": "2e68e881-9e44-4f77-a999-725e6a9d564a",
   "metadata": {},
   "outputs": [],
   "source": [
    "def sigmoid_der(x):\n",
    "    return sigmoid(x)*(1-sigmoid(x))"
   ]
  },
  {
   "cell_type": "markdown",
   "id": "5dff0c41-f346-4da4-88e8-f4c41e1ab666",
   "metadata": {},
   "source": [
    "## Prediction, given the model and sample outputs"
   ]
  },
  {
   "cell_type": "code",
   "execution_count": 5,
   "id": "ae6dc132-2fda-4565-899e-118dd78a5fc8",
   "metadata": {},
   "outputs": [],
   "source": [
    "# given a test input and the weights corresponding the the network , \n",
    "# will predict what the output of the network will be.\n",
    "def predict(y, weights_1, weigths_2):\n",
    "    activate_hidden_layer = sigmoid(np.dot(y, weights_1))\n",
    "    activate_output_layer = sigmoid(np.dot(activate_hidden_layer, weigths_2))\n",
    "    output = np.zeros(8)\n",
    "    max_value = np.argmax(activate_output_layer)\n",
    "    output[max_value] = 1\n",
    "    # returns true if the prediction is correct, false if not\n",
    "    if(np.array_equal(np.around(output),y)):\n",
    "        return True\n",
    "    else:\n",
    "        return False"
   ]
  },
  {
   "cell_type": "markdown",
   "id": "0fe6d94e-9512-45bd-81c3-3f5c2b47a304",
   "metadata": {},
   "source": [
    "# Training + Accuracy "
   ]
  },
  {
   "cell_type": "code",
   "execution_count": 6,
   "id": "5b44d114-423d-4e08-b901-f39d6a436df0",
   "metadata": {},
   "outputs": [],
   "source": [
    "accuracy_history = list()\n",
    "for epochs in range(100):\n",
    "    for iteration in range(epochs):\n",
    "        #------------------------------------------------------------------------\n",
    "        # Hidden Layer\n",
    "        # Output from hidden layer\n",
    "        # Activates the neurons using the sigmoid activation function\n",
    "        output_hidden = sigmoid(np.dot(training, weights_hidden) + bias_hidden)\n",
    "        #------------------------------------------------------------------------\n",
    "        # Output Layer\n",
    "        #Input for output layer\n",
    "        #Output from output layer\n",
    "        output_output_layer = sigmoid(np.dot(output_hidden, weights_output) + bias_output)\n",
    "        #------------------------------------------------------------------------\n",
    "        # Error computation\n",
    "        #Calculate mean squared error\n",
    "        error_output = ((1/2)*(np.power((output_output_layer - testing), 2)))\n",
    "        #calculate delta without taking bias into account\n",
    "        #delta between Hidden layer and Output\n",
    "        #ot = error between output and target\n",
    "        error_ot = output_output_layer - testing\n",
    "        der_hidden_output = sigmoid_der(np.dot(output_hidden, weights_output) + bias_output)\n",
    "        t_output_hidden = output_hidden\n",
    "        #delta of weights between hidden layer and output\n",
    "        delta_ho = np.dot(t_output_hidden.T, error_ot * der_hidden_output)\n",
    "        #Update weights of hidden layer -> find the weight matrix for the hidden␣\n",
    "        error_io = error_ot * der_hidden_output\n",
    "        der_weights_output = weights_output\n",
    "        error_ho = np.dot(error_io, der_weights_output.T)\n",
    "        der_input_hidden = sigmoid_der(np.dot(training, weights_hidden) + bias_hidden)\n",
    "        t_input_hidden = training\n",
    "        # Delta of weights between hidden layer and output\n",
    "        delta_ih = np.dot(t_input_hidden.T, der_input_hidden * error_ho)\n",
    "        #update weights\n",
    "        weights_output -= lr * delta_ho\n",
    "        weights_hidden -= lr * delta_ih\n",
    "        #Update biases\n",
    "        #bias_output -= lr * delta_ho\n",
    "        #bias_hidden -= lr * delta_ih\n",
    "    #---------------------------------------------------------\n",
    "    # Compute the accuracy using test data (validation set)\n",
    "    test_vector = list()\n",
    "    for index in range(20):\n",
    "        vector = np.zeros(8)\n",
    "        rand_index = random.randint(0,7)\n",
    "        vector[rand_index] = 1\n",
    "        test_vector.append(vector)\n",
    "    # Counts how many correct instances the model classified    \n",
    "    count = 0     \n",
    "    for i in range(len(test_vector)):\n",
    "         if(predict(test_vector[i],weights_hidden, weights_output)):\n",
    "            count = count+1\n",
    "    # Compute the average of correct instances\n",
    "    accuracy = count/len(test_vector)  \n",
    "    # Add it to the history vector (for plotting purposes)\n",
    "    accuracy_history.append(accuracy*100)"
   ]
  },
  {
   "cell_type": "markdown",
   "id": "3fec8ac1-e4e0-427d-b187-0ee3126c0541",
   "metadata": {},
   "source": [
    "# Testing the final accuracy of the model "
   ]
  },
  {
   "cell_type": "code",
   "execution_count": 7,
   "id": "a0474f44-1058-4ee5-bfbb-ae8bac90160c",
   "metadata": {},
   "outputs": [
    {
     "name": "stdout",
     "output_type": "stream",
     "text": [
      "100.0 %\n"
     ]
    }
   ],
   "source": [
    "# test with 100 random data \n",
    "test_vector = list()\n",
    "for index in range(100):\n",
    "    vector = np.zeros(8)\n",
    "    rand_index = random.randint(0,7)\n",
    "    vector[rand_index] = 1\n",
    "    test_vector.append(vector)\n",
    "\n",
    "count = 0     \n",
    "for i in range(len(test_vector)):\n",
    "     if(predict(test_vector[i],weights_hidden, weights_output)):\n",
    "        count = count+1\n",
    "        \n",
    "accuracy = count/len(test_vector)         \n",
    "print(accuracy*100, '%')"
   ]
  },
  {
   "cell_type": "markdown",
   "id": "3b3176ba-866b-42a2-9bab-1f6a58daeab3",
   "metadata": {},
   "source": [
    "# Plotting the validation set accuracy "
   ]
  },
  {
   "cell_type": "code",
   "execution_count": 8,
   "id": "132d1a6c-b28c-4078-ab54-96b985d8b720",
   "metadata": {},
   "outputs": [
    {
     "data": {
      "image/png": "[encoded data removed]",
      "text/plain": [
       "<Figure size 432x288 with 1 Axes>"
      ]
     },
     "metadata": {},
     "output_type": "display_data"
    }
   ],
   "source": [
    "import matplotlib.pyplot as plt\n",
    "\n",
    "plt.style.use('ggplot')\n",
    "plt.plot(accuracy_history)\n",
    "plt.title('Learning Rate = 0.1')\n",
    "plt.ylabel('Accuracy (%)')\n",
    "plt.xlabel('Time')\n",
    "plt.show()"
   ]
  },
  {
   "cell_type": "code",
   "execution_count": null,
   "id": "07ddd017-9e91-46bc-a4a2-eed2377fd039",
   "metadata": {},
   "outputs": [],
   "source": []
  }
 ],
 "metadata": {
  "kernelspec": {
   "display_name": "Python 3",
   "language": "python",
   "name": "python3"
  },
  "language_info": {
   "codemirror_mode": {
    "name": "ipython",
    "version": 3
   },
   "file_extension": ".py",
   "mimetype": "text/x-python",
   "name": "python",
   "nbconvert_exporter": "python",
   "pygments_lexer": "ipython3",
   "version": "3.8.8"
  }
 },
 "nbformat": 4,
 "nbformat_minor": 5
}
